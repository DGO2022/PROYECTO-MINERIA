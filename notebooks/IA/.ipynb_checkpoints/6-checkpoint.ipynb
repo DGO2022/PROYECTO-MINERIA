{
 "cells": [
  {
   "cell_type": "code",
   "execution_count": 1,
   "id": "72c69bc5-e247-4ad9-a241-150adfc4d494",
   "metadata": {},
   "outputs": [],
   "source": [
    "import numpy as np"
   ]
  },
  {
   "cell_type": "code",
   "execution_count": 4,
   "id": "e75c2a78-bccc-4043-a228-571dcbc6f000",
   "metadata": {},
   "outputs": [
    {
     "name": "stdout",
     "output_type": "stream",
     "text": [
      "[[1 2 3]\n",
      " [3 4 5]]\n"
     ]
    }
   ],
   "source": [
    "A = np.array([[1,2,3],[3,4,5]])\n",
    "print (A)"
   ]
  },
  {
   "cell_type": "code",
   "execution_count": 8,
   "id": "a5ef2028-f810-4a66-8563-586307047ae7",
   "metadata": {},
   "outputs": [
    {
     "name": "stdout",
     "output_type": "stream",
     "text": [
      "[[-0.46410668  0.88577931]\n",
      " [-0.88577931 -0.46410668]]\n"
     ]
    }
   ],
   "source": [
    "U, D, V =np.linalg.svd(A)\n",
    "print (U)"
   ]
  },
  {
   "cell_type": "code",
   "execution_count": 10,
   "id": "84bc7fc8-ebe7-4145-95ab-9ced91da7f82",
   "metadata": {},
   "outputs": [
    {
     "name": "stdout",
     "output_type": "stream",
     "text": [
      "[7.97638869 0.61418515]\n"
     ]
    }
   ],
   "source": [
    "print (D)"
   ]
  },
  {
   "cell_type": "code",
   "execution_count": 12,
   "id": "573e8bda-f27a-4c2a-90c5-0e586b6f9c2a",
   "metadata": {},
   "outputs": [
    {
     "name": "stdout",
     "output_type": "stream",
     "text": [
      "[[7.97638869 0.        ]\n",
      " [0.         0.61418515]]\n"
     ]
    }
   ],
   "source": [
    "print(np.diag(D))"
   ]
  },
  {
   "cell_type": "code",
   "execution_count": 13,
   "id": "53b29856-5d40-401d-97bf-0eeb5649d56c",
   "metadata": {},
   "outputs": [
    {
     "name": "stdout",
     "output_type": "stream",
     "text": [
      "[[-0.39133557 -0.5605708  -0.72980603]\n",
      " [-0.8247362  -0.13817999  0.54837623]\n",
      " [ 0.40824829 -0.81649658  0.40824829]]\n"
     ]
    }
   ],
   "source": [
    "print (V)"
   ]
  }
 ],
 "metadata": {
  "kernelspec": {
   "display_name": "Python 3 (ipykernel)",
   "language": "python",
   "name": "python3"
  },
  "language_info": {
   "codemirror_mode": {
    "name": "ipython",
    "version": 3
   },
   "file_extension": ".py",
   "mimetype": "text/x-python",
   "name": "python",
   "nbconvert_exporter": "python",
   "pygments_lexer": "ipython3",
   "version": "3.12.7"
  }
 },
 "nbformat": 4,
 "nbformat_minor": 5
}
