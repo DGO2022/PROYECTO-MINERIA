{
 "cells": [
  {
   "cell_type": "code",
   "execution_count": null,
   "id": "3e662600-ef73-43f4-bffc-1eb07f638c96",
   "metadata": {},
   "outputs": [],
   "source": []
  }
 ],
 "metadata": {
  "kernelspec": {
   "display_name": "",
   "name": ""
  },
  "language_info": {
   "name": ""
  }
 },
 "nbformat": 4,
 "nbformat_minor": 5
}
