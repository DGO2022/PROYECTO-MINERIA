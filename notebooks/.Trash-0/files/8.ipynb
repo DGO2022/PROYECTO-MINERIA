{
 "cells": [
  {
   "cell_type": "code",
   "execution_count": null,
   "id": "d2bc4621-930c-4011-8d02-05897317ba68",
   "metadata": {},
   "outputs": [],
   "source": []
  }
 ],
 "metadata": {
  "kernelspec": {
   "display_name": "",
   "name": ""
  },
  "language_info": {
   "name": ""
  }
 },
 "nbformat": 4,
 "nbformat_minor": 5
}
